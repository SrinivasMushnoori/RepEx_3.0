{
 "cells": [
  {
   "cell_type": "code",
   "execution_count": 3,
   "metadata": {},
   "outputs": [
    {
     "name": "stdout",
     "output_type": "stream",
     "text": [
      "/home/scm177/RADICAL-LAB/RepExExperiments/RepExScalingRawData\n",
      "Total MD duration is  843.568799496\n",
      "MD Scheduling duration is  9.76260066032\n",
      "MD Dequeuing  duration is  1.37590098381\n",
      "Total EX duration is  105.88319993\n",
      "EX Scheduling duration is  1.26819968224\n",
      "EX Dequeuing  duration is  0.207900285721\n",
      "total duration is  1048.93730021\n"
     ]
    }
   ],
   "source": [
    "import os\n",
    "import sys\n",
    "import glob\n",
    "import pprint\n",
    "import radical.utils as ru\n",
    "import radical.pilot as rp\n",
    "import radical.entk as re\n",
    "import radical.analytics as ra\n",
    "import pickle\n",
    "\n",
    "\n",
    "sessionname = 're.session.two.scm177.017640.0028' #8 replicas\n",
    "               \n",
    "\n",
    "replica_counts = [8, 16, 32, 64, 128]\n",
    "\n",
    "wd = os.getcwd() \n",
    "\n",
    "#print wd\n",
    "\n",
    "#for i in range(4):\n",
    "    \n",
    "print wd\n",
    "\n",
    "\n",
    "\n",
    "session = ra.Session(sid   = sessionname,\n",
    "                     stype = 'radical.entk',\n",
    "                     src   = wd)\n",
    "\n",
    "\n",
    "with open('MDLIST_%s'%sessionname, 'rb') as mdlist:\n",
    "    md_task_list=pickle.load(mdlist)\n",
    "with open('EXLIST_%s'%sessionname, 'rb') as exlist:\n",
    "    ex_task_list=pickle.load(exlist)\n",
    "\n",
    "md                      = session.filter(etype='task', inplace=False,  uid=md_task_list)\n",
    "md_scheduling_durations = md.duration([re.states.SCHEDULED, re.states.SUBMITTED])\n",
    "md_dequeuing_durations  = md.duration([re.states.COMPLETED, re.states.DONE])\n",
    "md_durations            = md.duration([re.states.SUBMITTED, re.states.COMPLETED])\n",
    "ex                      = session.filter(etype='task', inplace=False,  uid=ex_task_list)\n",
    "ex_scheduling_durations = ex.duration([re.states.SCHEDULED, re.states.SUBMITTED])\n",
    "ex_dequeuing_durations  = ex.duration([re.states.COMPLETED, re.states.DONE])\n",
    "ex_durations            = ex.duration([re.states.SUBMITTED, re.states.COMPLETED])\n",
    "\n",
    "total                   = session.filter(etype='task', inplace=False)\n",
    "total_durations         = total.duration([re.states.SCHEDULED, re.states.DONE])\n",
    "    \n",
    "#print \"Replica Count is \", replica_counts[i]    \n",
    "#print \"Total MD duration is \", md_durations\n",
    "#print \"MD Scheduling duration is \", md_scheduling_durations\n",
    "#print \"MD Dequeuing  duration is \", md_dequeuing_durations\n",
    "#print \"Total EX duration is \", ex_durations\n",
    "#print \"EX Scheduling duration is \", ex_scheduling_durations\n",
    "#print \"EX Dequeuing  duration is \", ex_dequeuing_durations\n",
    "#print \"total duration is \" , total_durations\n",
    "\n",
    "\n",
    "\n",
    "\n",
    "\n"
   ]
  },
  {
   "cell_type": "code",
   "execution_count": null,
   "metadata": {},
   "outputs": [],
   "source": []
  }
 ],
 "metadata": {
  "kernelspec": {
   "display_name": "Python 2",
   "language": "python",
   "name": "python2"
  },
  "language_info": {
   "codemirror_mode": {
    "name": "ipython",
    "version": 2
   },
   "file_extension": ".py",
   "mimetype": "text/x-python",
   "name": "python",
   "nbconvert_exporter": "python",
   "pygments_lexer": "ipython2",
   "version": "2.7.6"
  }
 },
 "nbformat": 4,
 "nbformat_minor": 2
}
