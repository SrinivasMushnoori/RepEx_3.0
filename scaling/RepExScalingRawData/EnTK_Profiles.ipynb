{
 "cells": [
  {
   "cell_type": "code",
   "execution_count": 38,
   "metadata": {
    "scrolled": true
   },
   "outputs": [
    {
     "name": "stdout",
     "output_type": "stream",
     "text": [
      "WARNING: profile \"/home/scm177/RADICAL-LAB/RepExExperiments/RepExScalingRawData/re.session.two.scm177.017640.0030/radical.entk.resource_manager.0000.prof\" not correctly closed.\n",
      "WARNING: profile \"/home/scm177/RADICAL-LAB/RepExExperiments/RepExScalingRawData/re.session.two.scm177.017640.0030/radical.entk.resource_manager.0000.prof\" not correctly closed.\n",
      "WARNING: profile \"/home/scm177/RADICAL-LAB/RepExExperiments/RepExScalingRawData/re.session.two.scm177.017640.0030/radical.entk.resource_manager.0000.prof\" not correctly closed.\n",
      "WARNING: profile \"/home/scm177/RADICAL-LAB/RepExExperiments/RepExScalingRawData/re.session.two.scm177.017640.0030/radical.entk.resource_manager.0000.prof\" not correctly closed.\n"
     ]
    },
    {
     "data": {
      "text/plain": [
       "<Figure size 432x288 with 0 Axes>"
      ]
     },
     "metadata": {},
     "output_type": "display_data"
    },
    {
     "data": {
      "image/png": "[encoded data removed]",
      "text/plain": [
       "<Figure size 1152x576 with 1 Axes>"
      ]
     },
     "metadata": {},
     "output_type": "display_data"
    }
   ],
   "source": [
    "import os\n",
    "import sys\n",
    "import glob\n",
    "import pprint\n",
    "import radical.utils as ru\n",
    "import radical.pilot as rp\n",
    "import radical.entk as re\n",
    "import radical.analytics as ra\n",
    "import pickle\n",
    "import matplotlib.pyplot as plt\n",
    "import plotly.plotly as py\n",
    "import numpy as np\n",
    "\n",
    "multiple_bars = plt.figure()\n",
    "\n",
    "\n",
    "sessionnames = [\n",
    "               're.session.two.scm177.017640.0028', #8 replicas\n",
    "               're.session.two.scm177.017640.0030', #16 replicas\n",
    "               're.session.two.scm177.017640.0032', #32 replicas\n",
    "               're.session.two.scm177.017640.0034', #64 replicas\n",
    "               're.session.two.scm177.017641.0000' #128 replicas\n",
    "              ]\n",
    "\n",
    "replica_counts = [8, 16, 32, 64, 128]\n",
    "MD_tx = []\n",
    "EX_tx = []\n",
    "MD_scheduling = []\n",
    "EX_scheduling = []\n",
    "MD_dequeuing = []\n",
    "EX_dequeuing = []\n",
    "TTX = []\n",
    "\n",
    "wd = os.getcwd() \n",
    "\n",
    "#print wd\n",
    "\n",
    "def gettimes(sessionname):\n",
    "    \n",
    "    \n",
    "    session = ra.Session(sid   = sessionname,\n",
    "                         stype = 'radical.entk',\n",
    "                         src   = wd)\n",
    "\n",
    "\n",
    "    with open('MDLIST_%s'%sessionname, 'rb') as mdlist:\n",
    "        md_task_list=pickle.load(mdlist)\n",
    "    with open('EXLIST_%s'%sessionname, 'rb') as exlist:\n",
    "        ex_task_list=pickle.load(exlist)\n",
    "\n",
    "    md                      = session.filter(etype='task', inplace=False,  uid=md_task_list)\n",
    "    md_scheduling_durations = md.duration([re.states.SCHEDULED, re.states.SUBMITTED])\n",
    "    MD_scheduling.append(md_scheduling_durations)\n",
    "    md_dequeuing_durations  = md.duration([re.states.COMPLETED, re.states.DONE])\n",
    "    MD_dequeuing.append(md_dequeuing_durations)\n",
    "    md_durations            = md.duration([re.states.SUBMITTED, re.states.COMPLETED])\n",
    "    MD_tx.append(md_durations)\n",
    "    \n",
    "    \n",
    "    ex                      = session.filter(etype='task', inplace=False,  uid=ex_task_list)\n",
    "    ex_scheduling_durations = ex.duration([re.states.SCHEDULED, re.states.SUBMITTED])\n",
    "    EX_scheduling.append(ex_scheduling_durations)\n",
    "    ex_dequeuing_durations  = ex.duration([re.states.COMPLETED, re.states.DONE])\n",
    "    EX_dequeuing.append(ex_dequeuing_durations)\n",
    "    ex_durations            = ex.duration([re.states.SUBMITTED, re.states.COMPLETED])\n",
    "    EX_tx.append(ex_durations)\n",
    "\n",
    "    total                   = session.filter(etype='task', inplace=False)\n",
    "    total_durations         = total.duration([re.states.SCHEDULED, re.states.DONE])\n",
    "    TTX.append(total_durations)\n",
    "\n",
    "for i in range(5):    \n",
    "    gettimes(sessionnames[i])\n",
    "    \n",
    "    \n",
    "x = np.asarray(replica_counts)\n",
    "y1 = np.asarray(MD_tx)\n",
    "y2 = np.asarray(MD_scheduling)  \n",
    "y3 = np.asarray(MD_dequeuing)\n",
    "z1 = np.asarray(EX_tx)\n",
    "z2 = np.asarray(EX_scheduling)\n",
    "z3 = np.asarray(EX_dequeuing)\n",
    "\n",
    "#print y1\n",
    "#print y2\n",
    "#print y3\n",
    "#print z1\n",
    "#print z2\n",
    "#print z3\n",
    "\n",
    "#ax = plt()\n",
    "#plt.bar(x, y1,width=2,color='b',align='center')\n",
    "#plt.bar(x+2, y2,width=2,color='g',align='center')\n",
    "#plt.bar(x+4, z1,width=2,color='r',align='center')\n",
    "#plt.xlabel(\"Replicas\")\n",
    "#plt.ylabel(\"Time (seconds)\", fontsize=13)\n",
    "\n",
    "#plt.xscale('log',basex=2)\n",
    "#plt.figure(figsize=(20,20))\n",
    "#plt.show()\n",
    "\n",
    "\n",
    "fig=plt.figure(figsize=(16,8))\n",
    "plt.grid(True)\n",
    "plt.xscale('log',basex=2)\n",
    "plt.title(\"RepEx Weak Scaling, with ten exchanges\",fontsize=15)\n",
    "plt.axis([8,128,0,1000])\n",
    "plt.xlabel(\"Replicas\")\n",
    "plt.ylabel(\"Time (secs)\", fontsize=13)\n",
    "plt.plot(x , y1, linewidth=2.0, color='b')\n",
    "plt.plot(x , y2, linewidth=2.0, color='g')\n",
    "plt.plot(x , y3, linewidth=2.0, color='r')\n",
    "plt.plot(x , z1, linewidth=2.0, color='c')\n",
    "plt.plot(x , z2, linewidth=2.0, color='m')\n",
    "plt.plot(x , z3, linewidth=2.0, color='y')\n",
    "plt.legend((y1, y2, y3, z1, z2, z3),('MD TX','MD Scheduling','MD Dequeuing','EX TX','EX Scheduling','EX Dequeuing'))\n",
    "plt.show(fig)"
   ]
  },
  {
   "cell_type": "code",
   "execution_count": null,
   "metadata": {},
   "outputs": [],
   "source": []
  },
  {
   "cell_type": "code",
   "execution_count": null,
   "metadata": {},
   "outputs": [],
   "source": []
  }
 ],
 "metadata": {
  "kernelspec": {
   "display_name": "Python 2",
   "language": "python",
   "name": "python2"
  },
  "language_info": {
   "codemirror_mode": {
    "name": "ipython",
    "version": 2
   },
   "file_extension": ".py",
   "mimetype": "text/x-python",
   "name": "python",
   "nbconvert_exporter": "python",
   "pygments_lexer": "ipython2",
   "version": "2.7.6"
  }
 },
 "nbformat": 4,
 "nbformat_minor": 2
}
