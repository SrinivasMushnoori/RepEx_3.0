{
 "cells": [
  {
   "cell_type": "code",
   "execution_count": 44,
   "metadata": {},
   "outputs": [
    {
     "name": "stdout",
     "output_type": "stream",
     "text": [
      "conflicting time sync for radical.entk.wfprocessor.0000-obj.prof        (mcewan.engr.rutgers.edu:128.6.238.207):     -41.08 -     -42.13 =  1.05\n",
      "conflicting time sync for radical.entk.appmanager.0000.prof             (mcewan.engr.rutgers.edu:128.6.238.207):     -41.08 -     -42.13 =  1.05\n",
      "conflicting time sync for radical.entk.task_manager.0000-obj.prof       (mcewan.engr.rutgers.edu:128.6.238.207):     -41.08 -     -42.13 =  1.05\n",
      "conflicting time sync for radical.entk.wfprocessor.0000-obj.prof        (mcewan.engr.rutgers.edu:128.6.238.207):     -41.08 -     -42.13 =  1.05\n",
      "conflicting time sync for radical.entk.appmanager.0000.prof             (mcewan.engr.rutgers.edu:128.6.238.207):     -41.08 -     -42.13 =  1.05\n",
      "conflicting time sync for radical.entk.task_manager.0000-obj.prof       (mcewan.engr.rutgers.edu:128.6.238.207):     -41.08 -     -42.13 =  1.05\n",
      "conflicting time sync for radical.entk.wfprocessor.0000-obj.prof        (mcewan.engr.rutgers.edu:128.6.238.207):     -41.08 -     -42.13 =  1.05\n",
      "conflicting time sync for radical.entk.appmanager.0000.prof             (mcewan.engr.rutgers.edu:128.6.238.207):     -41.08 -     -42.13 =  1.05\n",
      "conflicting time sync for radical.entk.task_manager.0000-obj.prof       (mcewan.engr.rutgers.edu:128.6.238.207):     -41.08 -     -42.13 =  1.05\n",
      "conflicting time sync for radical.entk.wfprocessor.0000-obj.prof        (mcewan.engr.rutgers.edu:128.6.238.207):     -41.08 -     -42.13 =  1.05\n",
      "conflicting time sync for radical.entk.appmanager.0000.prof             (mcewan.engr.rutgers.edu:128.6.238.207):     -41.08 -     -42.13 =  1.05\n",
      "conflicting time sync for radical.entk.task_manager.0000-obj.prof       (mcewan.engr.rutgers.edu:128.6.238.207):     -41.08 -     -42.13 =  1.05\n"
     ]
    },
    {
     "data": {
      "image/png": "[encoded data removed]",
      "text/plain": [
       "<Figure size 720x360 with 1 Axes>"
      ]
     },
     "metadata": {},
     "output_type": "display_data"
    }
   ],
   "source": [
    "import os\n",
    "import sys\n",
    "import glob\n",
    "import pprint\n",
    "import radical.utils as ru\n",
    "import radical.pilot as rp\n",
    "import radical.entk as re\n",
    "import radical.analytics as ra\n",
    "import pickle\n",
    "import matplotlib.pyplot as plt\n",
    "import plotly.plotly as py\n",
    "import numpy as np\n",
    "from matplotlib.ticker import MaxNLocator\n",
    "from collections import namedtuple\n",
    "\n",
    "\n",
    "sessionnames = [\n",
    "               're.session.mcewan.engr.rutgers.edu.scm177.017750.0013', \n",
    "               're.session.mcewan.engr.rutgers.edu.scm177.017750.0015', \n",
    "                ]\n",
    "\n",
    "TTX = []  \n",
    "\n",
    "wd = os.getcwd() \n",
    "\n",
    "#print wd\n",
    "\n",
    "def gettimes(sessionname):\n",
    "    \n",
    "    \n",
    "    session = ra.Session(sid   = sessionname,\n",
    "                         stype = 'radical.entk',\n",
    "                         src   = wd)\n",
    "\n",
    "\n",
    "    total                   = session.filter(etype='task', inplace=False)\n",
    "    total_durations         = total.duration([re.states.SCHEDULED, re.states.DONE])\n",
    "    TTX.append(total_durations)\n",
    "\n",
    "for i in range(2):    \n",
    "    gettimes(sessionnames[i])\n",
    "    \n",
    "    \n",
    "t1  = np.asarray(TTX)\n",
    "#print t1\n",
    "\n",
    "MDTX = []  \n",
    "EXTX=[]\n",
    "def gettimes(sessionname):\n",
    "    \n",
    "    \n",
    "    session = ra.Session(sid   = sessionname,\n",
    "                         stype = 'radical.entk',\n",
    "                         src   = wd)\n",
    "\n",
    "    with open('MDLIST_%s'%sessionname, 'rb') as mdlist:\n",
    "        md_task_list=pickle.load(mdlist)\n",
    "    md                   = session.filter(etype='task', inplace=False, uid=md_task_list)\n",
    "    md_durations         = md.duration([re.states.SUBMITTED, re.states.COMPLETED])\n",
    "    MDTX.append(md_durations)\n",
    "    \n",
    "t2 = np.asarray(MDTX)    \n",
    "\n",
    "for i in range(2):    \n",
    "    gettimes(sessionnames[i])\n",
    "\n",
    "fig, ax = plt.subplots(figsize=(10,5))\n",
    "\n",
    "index = np.arange(2)\n",
    "bar_width = 0.2\n",
    "\n",
    "\n",
    "set1 = ax.bar(index, TTX, bar_width, color='b', label='TTX')\n",
    "set2 = ax.bar(index+bar_width, MDTX, bar_width, color='g', label='MD_TX')\n",
    "\n",
    "ax.set_xlabel('Filesystem')\n",
    "ax.set_ylabel('TX')\n",
    "#ax.ylim(ymin=60, ymax=120)\n",
    "ax.set_title('Shared vs Local FS')\n",
    "ax.set_xticks(index+bar_width/2)\n",
    "ax.set_xticklabels(('SharedFS', 'NodeFS'))\n",
    "ax.legend()\n",
    "plt.show()"
   ]
  },
  {
   "cell_type": "code",
   "execution_count": null,
   "metadata": {},
   "outputs": [],
   "source": []
  }
 ],
 "metadata": {
  "kernelspec": {
   "display_name": "Python 2",
   "language": "python",
   "name": "python2"
  },
  "language_info": {
   "codemirror_mode": {
    "name": "ipython",
    "version": 2
   },
   "file_extension": ".py",
   "mimetype": "text/x-python",
   "name": "python",
   "nbconvert_exporter": "python",
   "pygments_lexer": "ipython2",
   "version": "2.7.14"
  }
 },
 "nbformat": 4,
 "nbformat_minor": 2
}
